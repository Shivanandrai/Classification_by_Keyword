{
  "nbformat": 4,
  "nbformat_minor": 0,
  "metadata": {
    "colab": {
      "name": "MLwP Group Projects_Keywords_Preprocessing.ipynb",
      "provenance": [],
      "collapsed_sections": [],
      "machine_shape": "hm",
      "include_colab_link": true
    },
    "kernelspec": {
      "name": "python3",
      "display_name": "Python 3"
    }
  },
  "cells": [
    {
      "cell_type": "markdown",
      "metadata": {
        "id": "view-in-github",
        "colab_type": "text"
      },
      "source": [
        "<a href=\"https://colab.research.google.com/github/philsML/Classification_by_Keyword/blob/master/MLwP_Group_Projects_Keywords_Preprocessing.ipynb\" target=\"_parent\"><img src=\"https://colab.research.google.com/assets/colab-badge.svg\" alt=\"Open In Colab\"/></a>"
      ]
    },
    {
      "cell_type": "markdown",
      "metadata": {
        "id": "QTbaQglUwveX",
        "colab_type": "text"
      },
      "source": [
        "# **0 | Preparation**"
      ]
    },
    {
      "cell_type": "markdown",
      "metadata": {
        "id": "7fTtoqY3wiva",
        "colab_type": "text"
      },
      "source": [
        "*Import all necessary Packages for the following Code, Set Random Seed (to make results reproducible), Mount Google Drive, Load Raw Dataset.*\n",
        "\n"
      ]
    },
    {
      "cell_type": "code",
      "metadata": {
        "id": "V4F05pl9v9fz",
        "colab_type": "code",
        "outputId": "4d29f9e1-ed56-4826-8adb-9d0b941ab05f",
        "colab": {
          "base_uri": "https://localhost:8080/",
          "height": 54
        }
      },
      "source": [
        "import numpy as np\n",
        "import pandas as pd\n",
        "pd.set_option('display.max_columns', 50)\n",
        "import matplotlib.pyplot as plt\n",
        "from google.colab import drive\n",
        "import random\n",
        "import nltk\n",
        "nltk.download('stopwords')\n",
        "from nltk.corpus import stopwords"
      ],
      "execution_count": 0,
      "outputs": [
        {
          "output_type": "stream",
          "text": [
            "[nltk_data] Downloading package stopwords to /root/nltk_data...\n",
            "[nltk_data]   Unzipping corpora/stopwords.zip.\n"
          ],
          "name": "stdout"
        }
      ]
    },
    {
      "cell_type": "code",
      "metadata": {
        "id": "hyh5_ab50eRz",
        "colab_type": "code",
        "colab": {}
      },
      "source": [
        "random.seed(123)"
      ],
      "execution_count": 0,
      "outputs": []
    },
    {
      "cell_type": "code",
      "metadata": {
        "id": "OuMrnTqzxX1c",
        "colab_type": "code",
        "outputId": "0aef411a-63dd-4199-dcb9-035c1e3f2b20",
        "colab": {
          "base_uri": "https://localhost:8080/",
          "height": 129
        }
      },
      "source": [
        "drive.mount('/content/drive')"
      ],
      "execution_count": 0,
      "outputs": [
        {
          "output_type": "stream",
          "text": [
            "Go to this URL in a browser: https://accounts.google.com/o/oauth2/auth?client_id=947318989803-6bn6qk8qdgf4n4g3pfee6491hc0brc4i.apps.googleusercontent.com&redirect_uri=urn%3aietf%3awg%3aoauth%3a2.0%3aoob&response_type=code&scope=email%20https%3a%2f%2fwww.googleapis.com%2fauth%2fdocs.test%20https%3a%2f%2fwww.googleapis.com%2fauth%2fdrive%20https%3a%2f%2fwww.googleapis.com%2fauth%2fdrive.photos.readonly%20https%3a%2f%2fwww.googleapis.com%2fauth%2fpeopleapi.readonly\n",
            "\n",
            "Enter your authorization code:\n",
            "··········\n",
            "Mounted at /content/drive\n"
          ],
          "name": "stdout"
        }
      ]
    },
    {
      "cell_type": "code",
      "metadata": {
        "id": "VBJJPc8Bwipq",
        "colab_type": "code",
        "colab": {}
      },
      "source": [
        "raw=pd.read_csv('/content/drive/My Drive/ML Python_Group Project/train2.csv')"
      ],
      "execution_count": 0,
      "outputs": []
    },
    {
      "cell_type": "markdown",
      "metadata": {
        "id": "twM7cRHlxzK3",
        "colab_type": "text"
      },
      "source": [
        "*Choose Subset Size and create random Subset to work with.*"
      ]
    },
    {
      "cell_type": "code",
      "metadata": {
        "id": "kq1v3zVbFXZX",
        "colab_type": "code",
        "colab": {}
      },
      "source": [
        "sub_size=20000"
      ],
      "execution_count": 0,
      "outputs": []
    },
    {
      "cell_type": "code",
      "metadata": {
        "id": "QnORCHJeyS0g",
        "colab_type": "code",
        "colab": {}
      },
      "source": [
        "subset_IDs = random.sample(set(raw.ID), sub_size)\n",
        "subset_IDs.sort()"
      ],
      "execution_count": 0,
      "outputs": []
    },
    {
      "cell_type": "code",
      "metadata": {
        "id": "cxp8mJQBFzPp",
        "colab_type": "code",
        "colab": {}
      },
      "source": [
        "subset = raw[raw.ID.isin(subset_IDs)]"
      ],
      "execution_count": 0,
      "outputs": []
    },
    {
      "cell_type": "markdown",
      "metadata": {
        "id": "K11kmivSyzzI",
        "colab_type": "text"
      },
      "source": [
        "# **1.1 | Basic Dataset Transformation**"
      ]
    },
    {
      "cell_type": "markdown",
      "metadata": {
        "id": "C0xRiv01zfhh",
        "colab_type": "text"
      },
      "source": [
        "*In the keywords-column of the table, all keywords & counts per user are in one string-item that need to be disentangled. Thus, create lists for the IDs, their keywords (as one long string) and their count -> lists should have as many itmes as the subset, i.e. as there are total observations for these users.*"
      ]
    },
    {
      "cell_type": "code",
      "metadata": {
        "id": "s0D5DtKczG8p",
        "colab_type": "code",
        "colab": {}
      },
      "source": [
        "IDs=[]\n",
        "keywords=[]\n",
        "keywords_len=[]\n",
        "for i,j in zip(list(subset.ID),list(subset.keywords)):\n",
        "    IDs.append(i)\n",
        "    keywords.append(j)\n",
        "    keywords_len.append(len(j.split(\";\")))"
      ],
      "execution_count": 0,
      "outputs": []
    },
    {
      "cell_type": "markdown",
      "metadata": {
        "id": "uSKTObdQ00_3",
        "colab_type": "text"
      },
      "source": [
        "*Split \"keywords:counts\"-items by ; to get a list of individual items of the same form. Then split that list into two lists of only keywords and counts respectively. Sometimes a count is missing - to avoid this bug, insert a try & except and add 0 in the except-cases. The length of both lists should be considerably longer as length now equals observations times keyword-items.*"
      ]
    },
    {
      "cell_type": "code",
      "metadata": {
        "id": "Lsh58rBK00bg",
        "colab_type": "code",
        "colab": {}
      },
      "source": [
        "keywords_list=[]\n",
        "for i in keywords:\n",
        "    keywords_list.append(i.split(\";\"))"
      ],
      "execution_count": 0,
      "outputs": []
    },
    {
      "cell_type": "code",
      "metadata": {
        "id": "fgdbnacc1SgY",
        "colab_type": "code",
        "colab": {}
      },
      "source": [
        "keywords_names=[]\n",
        "keywords_count=[]\n",
        "for i in keywords_list:\n",
        "    for j in i:\n",
        "        keywords_names.append(j.split(\":\")[0])\n",
        "        try:\n",
        "            keywords_count.append(j.split(\":\")[1])\n",
        "        except:\n",
        "            keywords_count.append(0)"
      ],
      "execution_count": 0,
      "outputs": []
    },
    {
      "cell_type": "markdown",
      "metadata": {
        "id": "NIlWadfj2qlT",
        "colab_type": "text"
      },
      "source": [
        "*Create an index-list corresponding to the long lists of keywords and counts. I.e. if the first 15 items come from User 200, fill the first 15 positions of the list with \"200\", then go on to the next User and fill the list with his/her ID as many times as he/she has keywords in the list.*"
      ]
    },
    {
      "cell_type": "code",
      "metadata": {
        "id": "-S0kwFPQ2jOi",
        "colab_type": "code",
        "colab": {}
      },
      "source": [
        "counter=0\n",
        "index_list=[]\n",
        "for x,c in zip(IDs,keywords_len):\n",
        "        while counter < (c):    \n",
        "            index_list.append(x)\n",
        "            counter=counter+1\n",
        "        counter=0 "
      ],
      "execution_count": 0,
      "outputs": []
    },
    {
      "cell_type": "markdown",
      "metadata": {
        "id": "ETMUT8Ou-der",
        "colab_type": "text"
      },
      "source": [
        "*Create a table with three columns: User-ID, Keyword, Count.*"
      ]
    },
    {
      "cell_type": "code",
      "metadata": {
        "id": "9chECDtv-lPs",
        "colab_type": "code",
        "colab": {}
      },
      "source": [
        "keywords_table=pd.DataFrame(index_list,columns=[\"ID\"])\n",
        "keywords_table[\"keywords\"]=keywords_names\n",
        "keywords_table[\"counts\"]=keywords_count"
      ],
      "execution_count": 0,
      "outputs": []
    },
    {
      "cell_type": "markdown",
      "metadata": {
        "id": "0_WDM5itwhcS",
        "colab_type": "text"
      },
      "source": [
        "*Check, for how many observations keywords occur. Those with very low occuranes have no value to detect patterns so spare them from the start - saves processing power and memory (less columns in analysis-table).*"
      ]
    },
    {
      "cell_type": "code",
      "metadata": {
        "id": "0DqcVigBaqlb",
        "colab_type": "code",
        "colab": {}
      },
      "source": [
        "sorted_keywords=keywords_names\n",
        "sorted_keywords.sort()"
      ],
      "execution_count": 0,
      "outputs": []
    },
    {
      "cell_type": "code",
      "metadata": {
        "id": "Ft5qyV02VoLU",
        "colab_type": "code",
        "colab": {}
      },
      "source": [
        "unique, occurances = np.unique(sorted_keywords, return_counts=True)"
      ],
      "execution_count": 0,
      "outputs": []
    },
    {
      "cell_type": "code",
      "metadata": {
        "id": "XAnc-s5GWJ9v",
        "colab_type": "code",
        "outputId": "722b58e7-bd2c-4555-d65a-a4237279b746",
        "colab": {
          "base_uri": "https://localhost:8080/",
          "height": 424
        }
      },
      "source": [
        "keyword_occurances = pd.DataFrame(unique, columns=[\"unique_keywords\"])\n",
        "keyword_occurances[\"occurances\"] = occurances\n",
        "keyword_occurances.sort_values(by=\"occurances\",axis=0,ascending=False)"
      ],
      "execution_count": 0,
      "outputs": [
        {
          "output_type": "execute_result",
          "data": {
            "text/html": [
              "<div>\n",
              "<style scoped>\n",
              "    .dataframe tbody tr th:only-of-type {\n",
              "        vertical-align: middle;\n",
              "    }\n",
              "\n",
              "    .dataframe tbody tr th {\n",
              "        vertical-align: top;\n",
              "    }\n",
              "\n",
              "    .dataframe thead th {\n",
              "        text-align: right;\n",
              "    }\n",
              "</style>\n",
              "<table border=\"1\" class=\"dataframe\">\n",
              "  <thead>\n",
              "    <tr style=\"text-align: right;\">\n",
              "      <th></th>\n",
              "      <th>unique_keywords</th>\n",
              "      <th>occurances</th>\n",
              "    </tr>\n",
              "  </thead>\n",
              "  <tbody>\n",
              "    <tr>\n",
              "      <th>42868</th>\n",
              "      <td>les</td>\n",
              "      <td>22278</td>\n",
              "    </tr>\n",
              "    <tr>\n",
              "      <th>25724</th>\n",
              "      <td>des</td>\n",
              "      <td>15547</td>\n",
              "    </tr>\n",
              "    <tr>\n",
              "      <th>33680</th>\n",
              "      <td>france</td>\n",
              "      <td>12078</td>\n",
              "    </tr>\n",
              "    <tr>\n",
              "      <th>33408</th>\n",
              "      <td>forum</td>\n",
              "      <td>11746</td>\n",
              "    </tr>\n",
              "    <tr>\n",
              "      <th>8741</th>\n",
              "      <td>affich</td>\n",
              "      <td>11712</td>\n",
              "    </tr>\n",
              "    <tr>\n",
              "      <th>...</th>\n",
              "      <td>...</td>\n",
              "      <td>...</td>\n",
              "    </tr>\n",
              "    <tr>\n",
              "      <th>40243</th>\n",
              "      <td>jerome.richet</td>\n",
              "      <td>1</td>\n",
              "    </tr>\n",
              "    <tr>\n",
              "      <th>40244</th>\n",
              "      <td>jerome.simonneau1</td>\n",
              "      <td>1</td>\n",
              "    </tr>\n",
              "    <tr>\n",
              "      <th>11623</th>\n",
              "      <td>astrocytome</td>\n",
              "      <td>1</td>\n",
              "    </tr>\n",
              "    <tr>\n",
              "      <th>40248</th>\n",
              "      <td>jese</td>\n",
              "      <td>1</td>\n",
              "    </tr>\n",
              "    <tr>\n",
              "      <th>0</th>\n",
              "      <td>%20caterpillar%20%20%20%20echirolles</td>\n",
              "      <td>1</td>\n",
              "    </tr>\n",
              "  </tbody>\n",
              "</table>\n",
              "<p>71922 rows × 2 columns</p>\n",
              "</div>"
            ],
            "text/plain": [
              "                            unique_keywords  occurances\n",
              "42868                                   les       22278\n",
              "25724                                   des       15547\n",
              "33680                                france       12078\n",
              "33408                                 forum       11746\n",
              "8741                                 affich       11712\n",
              "...                                     ...         ...\n",
              "40243                         jerome.richet           1\n",
              "40244                     jerome.simonneau1           1\n",
              "11623                           astrocytome           1\n",
              "40248                                  jese           1\n",
              "0      %20caterpillar%20%20%20%20echirolles           1\n",
              "\n",
              "[71922 rows x 2 columns]"
            ]
          },
          "metadata": {
            "tags": []
          },
          "execution_count": 15
        }
      ]
    },
    {
      "cell_type": "markdown",
      "metadata": {
        "id": "jI95CWhvqdf_",
        "colab_type": "text"
      },
      "source": [
        "*Check how many keywords are left at what threshold (as in \"how many times must they occur at least to be taken into analysis\"), then set the threshold and cut-out all words below it.*"
      ]
    },
    {
      "cell_type": "code",
      "metadata": {
        "id": "eJY9By0dmPuC",
        "colab_type": "code",
        "colab": {}
      },
      "source": [
        "threshold_levels={}\n",
        "for t in range(0,1000,10):\n",
        "  threshold_levels[t]=len(keyword_occurances[keyword_occurances.occurances>=t])"
      ],
      "execution_count": 0,
      "outputs": []
    },
    {
      "cell_type": "code",
      "metadata": {
        "id": "hylRHQ48md78",
        "colab_type": "code",
        "outputId": "28f3e994-d0d0-43c7-e828-ce3d064a1223",
        "colab": {
          "base_uri": "https://localhost:8080/",
          "height": 606
        }
      },
      "source": [
        "plt.figure(figsize=(10, 10))\n",
        "plt.plot(list(threshold_levels.keys()),list(threshold_levels.values()))\n",
        "plt.xlabel(\"threshold\")\n",
        "plt.ylabel('number of unique keywords')\n",
        "plt.show()"
      ],
      "execution_count": 0,
      "outputs": [
        {
          "output_type": "display_data",
          "data": {
            "image/png": "[encoded data removed]",
            "text/plain": [
              "<Figure size 720x720 with 1 Axes>"
            ]
          },
          "metadata": {
            "tags": [],
            "needs_background": "light"
          }
        }
      ]
    },
    {
      "cell_type": "code",
      "metadata": {
        "id": "0FW9mVbWjsdp",
        "colab_type": "code",
        "colab": {}
      },
      "source": [
        "threshold = sub_size/100 #words should occur at least in 1% of the IDs"
      ],
      "execution_count": 0,
      "outputs": []
    },
    {
      "cell_type": "code",
      "metadata": {
        "id": "i4XAW0PvtCeJ",
        "colab_type": "code",
        "colab": {}
      },
      "source": [
        "cut_out=list(keyword_occurances.unique_keywords[keyword_occurances.occurances<threshold])"
      ],
      "execution_count": 0,
      "outputs": []
    },
    {
      "cell_type": "markdown",
      "metadata": {
        "id": "Ux6KumJW_NdK",
        "colab_type": "text"
      },
      "source": [
        "# **1.2 | Keywords Cleaning**"
      ]
    },
    {
      "cell_type": "markdown",
      "metadata": {
        "id": "4J_g3aNO9nqo",
        "colab_type": "text"
      },
      "source": [
        "*The keywords are not yet clean, that is they contain stopwords, gibberish, etc. These values don't make sense, so create a French stopword-list.*\n",
        "\n",
        "*  *We could also do some word stemming here? (would have to be before excluding singles)*"
      ]
    },
    {
      "cell_type": "code",
      "metadata": {
        "id": "W-iogVI1_bAd",
        "colab_type": "code",
        "colab": {}
      },
      "source": [
        "raw_stopword_list_1 = stopwords.words('french')\n",
        "raw_stopword_list_2 = [\"Ap.\", \"Apr.\", \"GHz\", \"MHz\", \"USD\", \"a\", \"afin\", \"ah\", \"ai\", \"aie\", \"aient\", \"aies\", \"ait\", \"alors\", \"après\", \"as\", \"attendu\", \"au\", \"au-delà\", \"au-devant\", \"aucun\", \"aucune\", \"audit\", \"auprès\", \"auquel\", \"aura\", \"aurai\", \"auraient\", \"aurais\", \"aurait\", \"auras\", \"aurez\", \"auriez\", \"aurions\", \"aurons\", \"auront\", \"aussi\", \"autour\", \"autre\", \"autres\", \"autrui\", \"aux\", \"auxdites\", \"auxdits\", \"auxquelles\", \"auxquels\", \"avaient\", \"avais\", \"avait\", \"avant\", \"avec\", \"avez\", \"aviez\", \"avions\", \"avons\", \"ayant\", \"ayez\", \"ayons\", \"b\", \"bah\", \"banco\", \"ben\", \"bien\", \"bé\", \"c\", \"c'\", \"c'est\", \"c'était\", \"car\", \"ce\", \"ceci\", \"cela\", \"celle\", \"celle-ci\", \"celle-là\", \"celles\", \"celles-ci\", \"celles-là\", \"celui\", \"celui-ci\", \"celui-là\", \"celà\", \"cent\", \"cents\", \"cependant\", \"certain\", \"certaine\", \"certaines\", \"certains\", \"ces\", \"cet\", \"cette\", \"ceux\", \"ceux-ci\", \"ceux-là\", \"cf.\", \"cg\", \"cgr\", \"chacun\", \"chacune\", \"chaque\", \"chez\", \"ci\", \"cinq\", \"cinquante\", \"cinquante-cinq\", \"cinquante-deux\", \"cinquante-et-un\", \"cinquante-huit\", \"cinquante-neuf\", \"cinquante-quatre\", \"cinquante-sept\", \"cinquante-six\", \"cinquante-trois\", \"cl\", \"cm\", \"cm²\", \"comme\", \"contre\", \"d\", \"d'\", \"d'après\", \"d'un\", \"d'une\", \"dans\", \"de\", \"depuis\", \"derrière\", \"des\", \"desdites\", \"desdits\", \"desquelles\", \"desquels\", \"deux\", \"devant\", \"devers\", \"dg\", \"différentes\", \"différents\", \"divers\", \"diverses\", \"dix\", \"dix-huit\", \"dix-neuf\", \"dix-sept\", \"dl\", \"dm\", \"donc\", \"dont\", \"douze\", \"du\", \"dudit\", \"duquel\", \"durant\", \"dès\", \"déjà\", \"e\", \"eh\", \"elle\", \"elles\", \"en\", \"en-dehors\", \"encore\", \"enfin\", \"entre\", \"envers\", \"es\", \"est\", \"et\", \"eu\", \"eue\", \"eues\", \"euh\", \"eurent\", \"eus\", \"eusse\", \"eussent\", \"eusses\", \"eussiez\", \"eussions\", \"eut\", \"eux\", \"eûmes\", \"eût\", \"eûtes\", \"f\", \"fait\", \"fi\", \"flac\", \"fors\", \"furent\", \"fus\", \"fusse\", \"fussent\", \"fusses\", \"fussiez\", \"fussions\", \"fut\", \"fûmes\", \"fût\", \"fûtes\", \"g\", \"gr\", \"h\", \"ha\", \"han\", \"hein\", \"hem\", \"heu\", \"hg\", \"hl\", \"hm\", \"hm³\", \"holà\", \"hop\", \"hormis\", \"hors\", \"huit\", \"hum\", \"hé\", \"i\", \"ici\", \"il\", \"ils\", \"j\", \"j'\", \"j'ai\", \"j'avais\", \"j'étais\", \"jamais\", \"je\", \"jusqu'\", \"jusqu'au\", \"jusqu'aux\", \"jusqu'à\", \"jusque\", \"k\", \"kg\", \"km\", \"km²\", \"l\", \"l'\", \"l'autre\", \"l'on\", \"l'un\", \"l'une\", \"la\", \"laquelle\", \"le\", \"lequel\", \"les\", \"lesquelles\", \"lesquels\", \"leur\", \"leurs\", \"lez\", \"lors\", \"lorsqu'\", \"lorsque\", \"lui\", \"lès\", \"m\", \"m'\", \"ma\", \"maint\", \"mainte\", \"maintes\", \"maints\", \"mais\", \"malgré\", \"me\", \"mes\", \"mg\", \"mgr\", \"mil\", \"mille\", \"milliards\", \"millions\", \"ml\", \"mm\", \"mm²\", \"moi\", \"moins\", \"mon\", \"moyennant\", \"mt\", \"m²\", \"m³\", \"même\", \"mêmes\", \"n\", \"n'avait\", \"n'y\", \"ne\", \"neuf\", \"ni\", \"non\", \"nonante\", \"nonobstant\", \"nos\", \"notre\", \"nous\", \"nul\", \"nulle\", \"nº\", \"néanmoins\", \"o\", \"octante\", \"oh\", \"on\", \"ont\", \"onze\", \"or\", \"ou\", \"outre\", \"où\", \"p\", \"par\", \"par-delà\", \"parbleu\", \"parce\", \"parmi\", \"pas\", \"passé\", \"pendant\", \"personne\", \"peu\", \"plus\", \"plus_d'un\", \"plus_d'une\", \"plusieurs\", \"pour\", \"pourquoi\", \"pourtant\", \"pourvu\", \"près\", \"puisqu'\", \"puisque\", \"q\", \"qu\", \"qu'\", \"qu'elle\", \"qu'elles\", \"qu'il\", \"qu'ils\", \"qu'on\", \"quand\", \"quant\", \"quarante\", \"quarante-cinq\", \"quarante-deux\", \"quarante-et-un\", \"quarante-huit\", \"quarante-neuf\", \"quarante-quatre\", \"quarante-sept\", \"quarante-six\", \"quarante-trois\", \"quatorze\", \"quatre\", \"quatre-vingt\", \"quatre-vingt-cinq\", \"quatre-vingt-deux\", \"quatre-vingt-dix\", \"quatre-vingt-dix-huit\", \"quatre-vingt-dix-neuf\", \"quatre-vingt-dix-sept\", \"quatre-vingt-douze\", \"quatre-vingt-huit\", \"quatre-vingt-neuf\", \"quatre-vingt-onze\", \"quatre-vingt-quatorze\", \"quatre-vingt-quatre\", \"quatre-vingt-quinze\", \"quatre-vingt-seize\", \"quatre-vingt-sept\", \"quatre-vingt-six\", \"quatre-vingt-treize\", \"quatre-vingt-trois\", \"quatre-vingt-un\", \"quatre-vingt-une\", \"quatre-vingts\", \"que\", \"quel\", \"quelle\", \"quelles\", \"quelqu'\", \"quelqu'un\", \"quelqu'une\", \"quelque\", \"quelques\", \"quelques-unes\", \"quelques-uns\", \"quels\", \"qui\", \"quiconque\", \"quinze\", \"quoi\", \"quoiqu'\", \"quoique\", \"r\", \"revoici\", \"revoilà\", \"rien\", \"s\", \"s'\", \"sa\", \"sans\", \"sauf\", \"se\", \"seize\", \"selon\", \"sept\", \"septante\", \"sera\", \"serai\", \"seraient\", \"serais\", \"serait\", \"seras\", \"serez\", \"seriez\", \"serions\", \"serons\", \"seront\", \"ses\", \"si\", \"sinon\", \"six\", \"soi\", \"soient\", \"sois\", \"soit\", \"soixante\", \"soixante-cinq\", \"soixante-deux\", \"soixante-dix\", \"soixante-dix-huit\", \"soixante-dix-neuf\", \"soixante-dix-sept\", \"soixante-douze\", \"soixante-et-onze\", \"soixante-et-un\", \"soixante-et-une\", \"soixante-huit\", \"soixante-neuf\", \"soixante-quatorze\", \"soixante-quatre\", \"soixante-quinze\", \"soixante-seize\", \"soixante-sept\", \"soixante-six\", \"soixante-treize\", \"soixante-trois\", \"sommes\", \"son\", \"sont\", \"sous\", \"soyez\", \"soyons\", \"suis\", \"suite\", \"sur\", \"sus\", \"t\", \"t'\", \"ta\", \"tacatac\", \"tandis\", \"te\", \"tel\", \"telle\", \"telles\", \"tels\", \"tes\", \"toi\", \"ton\", \"toujours\", \"tous\", \"tout\", \"toute\", \"toutefois\", \"toutes\", \"treize\", \"trente\", \"trente-cinq\", \"trente-deux\", \"trente-et-un\", \"trente-huit\", \"trente-neuf\", \"trente-quatre\", \"trente-sept\", \"trente-six\", \"trente-trois\", \"trois\", \"très\", \"tu\", \"u\", \"un\", \"une\", \"unes\", \"uns\", \"v\", \"vers\", \"via\", \"vingt\", \"vingt-cinq\", \"vingt-deux\", \"vingt-huit\", \"vingt-neuf\", \"vingt-quatre\", \"vingt-sept\", \"vingt-six\", \"vingt-trois\", \"vis-à-vis\", \"voici\", \"voilà\", \"vos\", \"votre\", \"vous\", \"w\", \"x\", \"y\", \"z\", \"zéro\", \"à\", \"ç'\", \"ça\", \"ès\", \"étaient\", \"étais\", \"était\", \"étant\", \"étiez\", \"étions\", \"été\", \"étée\", \"étées\", \"étés\", \"êtes\", \"être\", \"ô\"]\n",
        "\n",
        "stopword_list=[]\n",
        "for word in raw_stopword_list_1:\n",
        "    stopword_list.append(word)\n",
        "for word in raw_stopword_list_2:\n",
        "    stopword_list.append(word)\n",
        "stopword_list=set(stopword_list)"
      ],
      "execution_count": 0,
      "outputs": []
    },
    {
      "cell_type": "markdown",
      "metadata": {
        "id": "e5PnxSi0AHC6",
        "colab_type": "text"
      },
      "source": [
        "*Transform all keywords to lower-case and remove duplicates and singles. Then, clean the keywords by making sure they're not in the stopword-list. Also delete all that non-alphanumerical gibberish or \"words\" that are just one letter or number.*"
      ]
    },
    {
      "cell_type": "code",
      "metadata": {
        "id": "z909F6tVDds8",
        "colab_type": "code",
        "colab": {}
      },
      "source": [
        "words=[w.lower() for w in keywords_names]\n",
        "cut_out=[c.lower() for c in cut_out]\n",
        "words=set(words)\n",
        "words=words.difference(cut_out)\n",
        "words=words.difference(stopword_list)"
      ],
      "execution_count": 0,
      "outputs": []
    },
    {
      "cell_type": "code",
      "metadata": {
        "id": "3-t3hetP3FMn",
        "colab_type": "code",
        "outputId": "899d80d1-1048-4f7b-dc29-a9d7d3af555a",
        "colab": {
          "base_uri": "https://localhost:8080/",
          "height": 182
        }
      },
      "source": [
        "progress=0\n",
        "printer=0\n",
        "filtered_words = [] \n",
        "for word in words: \n",
        "    if word.isalpha() and len(word) > 1: \n",
        "        filtered_words.append(word) \n",
        "    filtered_words.sort()\n",
        "    progress=progress+1\n",
        "    printer=printer+1\n",
        "    if printer>(len(words)/10):\n",
        "      print(progress/len(words))\n",
        "      printer=0     "
      ],
      "execution_count": 0,
      "outputs": [
        {
          "output_type": "stream",
          "text": [
            "0.10033167495854063\n",
            "0.20066334991708126\n",
            "0.3009950248756219\n",
            "0.4013266998341625\n",
            "0.5016583747927031\n",
            "0.6019900497512438\n",
            "0.7023217247097844\n",
            "0.802653399668325\n",
            "0.9029850746268657\n"
          ],
          "name": "stdout"
        }
      ]
    },
    {
      "cell_type": "markdown",
      "metadata": {
        "id": "UnjzF6G_UNjF",
        "colab_type": "text"
      },
      "source": [
        "*Shorten the keywords-table to only show lines with keywords from the filtered list and thus to avoid processing/looping over/etc. lines with words, that are not gonna be used later anyways.*"
      ]
    },
    {
      "cell_type": "code",
      "metadata": {
        "id": "bPe8wuUcwydY",
        "colab_type": "code",
        "colab": {}
      },
      "source": [
        "keywords_table = keywords_table[keywords_table.keywords.isin(filtered_words)]"
      ],
      "execution_count": 0,
      "outputs": []
    },
    {
      "cell_type": "markdown",
      "metadata": {
        "id": "kFGil_KIAsa_",
        "colab_type": "text"
      },
      "source": [
        "# **1.3 | Setup of Table for Analysis**"
      ]
    },
    {
      "cell_type": "markdown",
      "metadata": {
        "id": "1fDC-e23AzDs",
        "colab_type": "text"
      },
      "source": [
        "*Create an empty table (filled with 0), where the index contains the unique user-IDs (Users come up several times in the raw data, but need to be aggregated in the table for analysis) and each clean keyword makes up one column.*"
      ]
    },
    {
      "cell_type": "code",
      "metadata": {
        "id": "su0IchMM51H0",
        "colab_type": "code",
        "colab": {}
      },
      "source": [
        "data=pd.DataFrame(0,columns=filtered_words,index=subset.ID.unique())"
      ],
      "execution_count": 0,
      "outputs": []
    },
    {
      "cell_type": "code",
      "metadata": {
        "id": "sJfUD3ns_-jc",
        "colab_type": "code",
        "colab": {}
      },
      "source": [
        "data.to_csv('/content/drive/My Drive/ML Python_Group Project/empty.csv',sep=\";\")"
      ],
      "execution_count": 0,
      "outputs": []
    },
    {
      "cell_type": "markdown",
      "metadata": {
        "id": "948TP0UbBQin",
        "colab_type": "text"
      },
      "source": [
        "*Fill the table with the counts for each combination of a User-ID and all of his/her keywords.*"
      ]
    },
    {
      "cell_type": "code",
      "metadata": {
        "id": "wWgfosMXYSeg",
        "colab_type": "code",
        "outputId": "b8f620b3-1777-439d-f74d-d044b8432443",
        "colab": {
          "base_uri": "https://localhost:8080/",
          "height": 366
        }
      },
      "source": [
        "progress=0\n",
        "printer=0\n",
        "for index in range(0,len(keywords_table)):\n",
        "  ID=keywords_table.iloc[index,0]\n",
        "  keyword=keywords_table.iloc[index,1]\n",
        "  value=keywords_table.iloc[index,2]\n",
        "  if keyword in filtered_words:\n",
        "    if data.loc[ID, keyword]==0:\n",
        "      data.at[ID, keyword] = float(value)\n",
        "    else:\n",
        "      basis=data.loc[ID, keyword]\n",
        "      data.at[ID, keyword] = float(basis) + float(value)\n",
        "  progress=progress+1\n",
        "  printer=printer+1\n",
        "  if printer>(len(keywords_table)/20):\n",
        "    print(progress/len(keywords_table))\n",
        "    printer=0"
      ],
      "execution_count": 0,
      "outputs": [
        {
          "output_type": "stream",
          "text": [
            "0.05000040138397194\n",
            "0.10000080276794387\n",
            "0.1500012041519158\n",
            "0.20000160553588775\n",
            "0.2500020069198597\n",
            "0.3000024083038316\n",
            "0.35000280968780356\n",
            "0.4000032110717755\n",
            "0.45000361245574744\n",
            "0.5000040138397194\n",
            "0.5500044152236913\n",
            "0.6000048166076632\n",
            "0.6500052179916351\n",
            "0.7000056193756071\n",
            "0.750006020759579\n",
            "0.800006422143551\n",
            "0.8500068235275229\n",
            "0.9000072249114949\n",
            "0.9500076262954668\n"
          ],
          "name": "stdout"
        }
      ]
    },
    {
      "cell_type": "code",
      "metadata": {
        "id": "K4KCUw2qV5qP",
        "colab_type": "code",
        "colab": {}
      },
      "source": [
        "col_sums = pd.DataFrame(data.sum(),columns=[\"total\"])\n",
        "col_sums = col_sums.sort_values(by=\"total\")"
      ],
      "execution_count": 0,
      "outputs": []
    },
    {
      "cell_type": "code",
      "metadata": {
        "id": "vQkVW1VAWMb6",
        "colab_type": "code",
        "colab": {}
      },
      "source": [
        "col_sums.sort_values(by=\"total\",axis=0,inplace=True,ascending=False)"
      ],
      "execution_count": 0,
      "outputs": []
    },
    {
      "cell_type": "code",
      "metadata": {
        "colab_type": "code",
        "id": "2AQ6kBNv8hQK",
        "outputId": "cce6723f-363b-4147-c05a-4acf510e3805",
        "colab": {
          "base_uri": "https://localhost:8080/",
          "height": 300
        }
      },
      "source": [
        "col_sums.head(8)"
      ],
      "execution_count": 0,
      "outputs": [
        {
          "output_type": "execute_result",
          "data": {
            "text/html": [
              "<div>\n",
              "<style scoped>\n",
              "    .dataframe tbody tr th:only-of-type {\n",
              "        vertical-align: middle;\n",
              "    }\n",
              "\n",
              "    .dataframe tbody tr th {\n",
              "        vertical-align: top;\n",
              "    }\n",
              "\n",
              "    .dataframe thead th {\n",
              "        text-align: right;\n",
              "    }\n",
              "</style>\n",
              "<table border=\"1\" class=\"dataframe\">\n",
              "  <thead>\n",
              "    <tr style=\"text-align: right;\">\n",
              "      <th></th>\n",
              "      <th>total</th>\n",
              "    </tr>\n",
              "  </thead>\n",
              "  <tbody>\n",
              "    <tr>\n",
              "      <th>magazine</th>\n",
              "      <td>68066</td>\n",
              "    </tr>\n",
              "    <tr>\n",
              "      <th>people</th>\n",
              "      <td>65519</td>\n",
              "    </tr>\n",
              "    <tr>\n",
              "      <th>stars</th>\n",
              "      <td>60526</td>\n",
              "    </tr>\n",
              "    <tr>\n",
              "      <th>week</th>\n",
              "      <td>45106</td>\n",
              "    </tr>\n",
              "    <tr>\n",
              "      <th>end</th>\n",
              "      <td>40339</td>\n",
              "    </tr>\n",
              "    <tr>\n",
              "      <th>france</th>\n",
              "      <td>36420</td>\n",
              "    </tr>\n",
              "    <tr>\n",
              "      <th>actu</th>\n",
              "      <td>26847</td>\n",
              "    </tr>\n",
              "    <tr>\n",
              "      <th>meteo</th>\n",
              "      <td>23828</td>\n",
              "    </tr>\n",
              "  </tbody>\n",
              "</table>\n",
              "</div>"
            ],
            "text/plain": [
              "          total\n",
              "magazine  68066\n",
              "people    65519\n",
              "stars     60526\n",
              "week      45106\n",
              "end       40339\n",
              "france    36420\n",
              "actu      26847\n",
              "meteo     23828"
            ]
          },
          "metadata": {
            "tags": []
          },
          "execution_count": 32
        }
      ]
    },
    {
      "cell_type": "markdown",
      "metadata": {
        "id": "ERNP0DsdKCXe",
        "colab_type": "text"
      },
      "source": [
        "*As users come up several times in the raw data, create lists for \"Age\" and \"Sex\" for each unique User-ID. Always take the first values of the first instance that they come up in the raw data.*"
      ]
    },
    {
      "cell_type": "code",
      "metadata": {
        "id": "MaNOZ33OJSBH",
        "colab_type": "code",
        "colab": {}
      },
      "source": [
        "unique_age=[]\n",
        "for ID in subset.ID.unique():\n",
        "  unique_age.append(subset[subset.ID==ID].iloc[0,2])"
      ],
      "execution_count": 0,
      "outputs": []
    },
    {
      "cell_type": "code",
      "metadata": {
        "id": "41S3pFFrJius",
        "colab_type": "code",
        "colab": {}
      },
      "source": [
        "unique_sex=[]\n",
        "for ID in subset.ID.unique():\n",
        "  unique_sex.append(subset[subset.ID==ID].iloc[0,3])"
      ],
      "execution_count": 0,
      "outputs": []
    },
    {
      "cell_type": "markdown",
      "metadata": {
        "id": "zUQB_1jbEUjk",
        "colab_type": "text"
      },
      "source": [
        "*Include Age & Sex in the new table and \"push\" to front of the table.*"
      ]
    },
    {
      "cell_type": "code",
      "metadata": {
        "id": "opOjOkM9EUpW",
        "colab_type": "code",
        "colab": {}
      },
      "source": [
        "data[\"dependent_variable_age\"]=unique_age\n",
        "data[\"dependent_category_age\"]=pd.cut(data.dependent_variable_age, bins=[0, 24, 34, 44, 54, 64, 99], labels=['A', 'B', 'C','D','E','F'])\n",
        "data[\"dependent_variable_sex\"]=unique_sex\n",
        "\n",
        "new_cols=[\"dependent_variable_age\",\"dependent_category_age\",\"dependent_variable_sex\"]\n",
        "for i in data.columns[0:(len(data.columns)-3)]:\n",
        "    new_cols.append(i)\n",
        "\n",
        "data=data[new_cols]"
      ],
      "execution_count": 0,
      "outputs": []
    },
    {
      "cell_type": "markdown",
      "metadata": {
        "id": "WLvGUGppMD9B",
        "colab_type": "text"
      },
      "source": [
        "*Exclude all rows where all independent variables are equal to 0.*"
      ]
    },
    {
      "cell_type": "code",
      "metadata": {
        "id": "uXvXPklE0ZSX",
        "colab_type": "code",
        "colab": {}
      },
      "source": [
        "data = data.loc[(data[new_cols[3:]]!=0).any(1)]"
      ],
      "execution_count": 0,
      "outputs": []
    },
    {
      "cell_type": "markdown",
      "metadata": {
        "id": "y22qvRkRVp6E",
        "colab_type": "text"
      },
      "source": [
        "*Save the table to the folder in the Google Drive so it can be loaded and used in another Python-Notebook (for Analysis), without having to re-run this entire code.*"
      ]
    },
    {
      "cell_type": "code",
      "metadata": {
        "id": "bBrWERRXFIkm",
        "colab_type": "code",
        "colab": {}
      },
      "source": [
        "data.to_csv('/content/drive/My Drive/ML Python_Group Project/Table for Analysis_v11.csv',sep=\";\")"
      ],
      "execution_count": 0,
      "outputs": []
    }
  ]
}