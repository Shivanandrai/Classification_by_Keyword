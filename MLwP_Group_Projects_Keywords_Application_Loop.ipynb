{
  "nbformat": 4,
  "nbformat_minor": 0,
  "metadata": {
    "colab": {
      "name": "MLwP Group Projects_Keywords_Application Loop.ipynb",
      "provenance": [],
      "collapsed_sections": [],
      "machine_shape": "hm",
      "include_colab_link": true
    },
    "kernelspec": {
      "name": "python3",
      "display_name": "Python 3"
    }
  },
  "cells": [
    {
      "cell_type": "markdown",
      "metadata": {
        "id": "view-in-github",
        "colab_type": "text"
      },
      "source": [
        "<a href=\"https://colab.research.google.com/github/philsML/Classification_by_Keyword/blob/master/MLwP_Group_Projects_Keywords_Application_Loop.ipynb\" target=\"_parent\"><img src=\"https://colab.research.google.com/assets/colab-badge.svg\" alt=\"Open In Colab\"/></a>"
      ]
    },
    {
      "cell_type": "markdown",
      "metadata": {
        "id": "4mIY6OZria30",
        "colab_type": "text"
      },
      "source": [
        "*Import Libraries & Mount Drive.*"
      ]
    },
    {
      "cell_type": "code",
      "metadata": {
        "id": "Ab-jEdxsNCgJ",
        "colab_type": "code",
        "colab": {}
      },
      "source": [
        "import numpy as np\n",
        "import pandas as pd\n",
        "pd.set_option('display.max_columns', 50)\n",
        "import matplotlib.pyplot as plt\n",
        "from google.colab import drive\n",
        "import random\n",
        "from pprint import pprint\n",
        "import sklearn\n",
        "from sklearn import metrics\n",
        "from sklearn.model_selection import train_test_split, cross_validate, StratifiedKFold, RandomizedSearchCV, GridSearchCV, cross_val_score, ShuffleSplit, RepeatedStratifiedKFold\n",
        "from sklearn.metrics import accuracy_score, confusion_matrix, classification_report\n",
        "from sklearn.utils import resample"
      ],
      "execution_count": 0,
      "outputs": []
    },
    {
      "cell_type": "code",
      "metadata": {
        "id": "zwUTyUwAJnpV",
        "colab_type": "code",
        "colab": {}
      },
      "source": [
        "#Algorithms\n",
        "from sklearn import linear_model\n",
        "from sklearn.linear_model import LogisticRegression, LinearRegression, BayesianRidge, SGDClassifier\n",
        "from sklearn.ensemble import RandomForestClassifier, RandomForestRegressor, GradientBoostingClassifier, GradientBoostingRegressor\n",
        "from sklearn.svm import SVC, LinearSVC\n",
        "from sklearn.tree import DecisionTreeClassifier\n",
        "from sklearn.discriminant_analysis import LinearDiscriminantAnalysis\n",
        "from sklearn.neighbors import KNeighborsClassifier\n",
        "from sklearn.naive_bayes import GaussianNB,BernoulliNB"
      ],
      "execution_count": 0,
      "outputs": []
    },
    {
      "cell_type": "code",
      "metadata": {
        "id": "7eY_wrycNGZB",
        "colab_type": "code",
        "colab": {}
      },
      "source": [
        "random.seed(123)"
      ],
      "execution_count": 0,
      "outputs": []
    },
    {
      "cell_type": "code",
      "metadata": {
        "id": "RbwLY1e6NHrC",
        "colab_type": "code",
        "outputId": "e64df930-2520-4c56-851f-d0e59e1296f8",
        "colab": {
          "base_uri": "https://localhost:8080/",
          "height": 35
        }
      },
      "source": [
        "drive.mount('/content/drive')"
      ],
      "execution_count": 23,
      "outputs": [
        {
          "output_type": "stream",
          "text": [
            "Drive already mounted at /content/drive; to attempt to forcibly remount, call drive.mount(\"/content/drive\", force_remount=True).\n"
          ],
          "name": "stdout"
        }
      ]
    },
    {
      "cell_type": "markdown",
      "metadata": {
        "id": "LxyFfEjdiewZ",
        "colab_type": "text"
      },
      "source": [
        "*Load Dataset.*"
      ]
    },
    {
      "cell_type": "code",
      "metadata": {
        "id": "AWV42NTPQkb9",
        "colab_type": "code",
        "colab": {}
      },
      "source": [
        "#switched to v11 to include Jakob's changes - please re-run the preprocessing code, if colab can't find the file\n",
        "data=pd.read_csv('/content/drive/My Drive/ML Python_Group Project/Table for Analysis_v11.csv',sep=\";\")\n",
        "data.rename({\"Unnamed: 0\":\"ID\"}, axis='columns',inplace=True)\n",
        "cols = data.columns.to_list()"
      ],
      "execution_count": 0,
      "outputs": []
    },
    {
      "cell_type": "markdown",
      "metadata": {
        "id": "Gy9yXGR_ih2m",
        "colab_type": "text"
      },
      "source": [
        "*Setup & Fit best Models from Compiled Analysis.*"
      ]
    },
    {
      "cell_type": "code",
      "metadata": {
        "id": "WSS2r6AyulbV",
        "colab_type": "code",
        "outputId": "7ce4112d-300a-4091-c052-0be50d963f6a",
        "colab": {
          "base_uri": "https://localhost:8080/",
          "height": 164
        }
      },
      "source": [
        "#class_weight1 = {'F':1.19, 'M':1}\n",
        "\n",
        "rf = RandomForestClassifier(n_estimators = 100,\n",
        "                            min_samples_split= 250,\n",
        "                            min_samples_leaf = 5,\n",
        "                            max_features=\"auto\",\n",
        "                            max_depth=40,\n",
        "                            bootstrap=True)\n",
        "rf.fit(data[data.columns[4:]],np.array(data.iloc[:,3:4]).flatten())"
      ],
      "execution_count": 25,
      "outputs": [
        {
          "output_type": "execute_result",
          "data": {
            "text/plain": [
              "RandomForestClassifier(bootstrap=True, ccp_alpha=0.0, class_weight=None,\n",
              "                       criterion='gini', max_depth=40, max_features='auto',\n",
              "                       max_leaf_nodes=None, max_samples=None,\n",
              "                       min_impurity_decrease=0.0, min_impurity_split=None,\n",
              "                       min_samples_leaf=5, min_samples_split=250,\n",
              "                       min_weight_fraction_leaf=0.0, n_estimators=100,\n",
              "                       n_jobs=None, oob_score=False, random_state=None,\n",
              "                       verbose=0, warm_start=False)"
            ]
          },
          "metadata": {
            "tags": []
          },
          "execution_count": 25
        }
      ]
    },
    {
      "cell_type": "code",
      "metadata": {
        "id": "6Y7Gc59kvDPl",
        "colab_type": "code",
        "outputId": "10bb4198-96c4-4210-b5b4-49f3754728fe",
        "colab": {
          "base_uri": "https://localhost:8080/",
          "height": 146
        }
      },
      "source": [
        "RFR = RandomForestRegressor(n_estimators = 200,\n",
        "                            max_depth = 50, \n",
        "                            min_samples_split = 15,\n",
        "                            min_samples_leaf = 10)\n",
        "RFR.fit(data[data.columns[4:]],np.array(data.iloc[:,1:2]).flatten())"
      ],
      "execution_count": 26,
      "outputs": [
        {
          "output_type": "execute_result",
          "data": {
            "text/plain": [
              "RandomForestRegressor(bootstrap=True, ccp_alpha=0.0, criterion='mse',\n",
              "                      max_depth=50, max_features='auto', max_leaf_nodes=None,\n",
              "                      max_samples=None, min_impurity_decrease=0.0,\n",
              "                      min_impurity_split=None, min_samples_leaf=10,\n",
              "                      min_samples_split=15, min_weight_fraction_leaf=0.0,\n",
              "                      n_estimators=200, n_jobs=None, oob_score=False,\n",
              "                      random_state=None, verbose=0, warm_start=False)"
            ]
          },
          "metadata": {
            "tags": []
          },
          "execution_count": 26
        }
      ]
    },
    {
      "cell_type": "code",
      "metadata": {
        "id": "gxkc7HgZRk3o",
        "colab_type": "code",
        "outputId": "e3ea41a7-675e-4e6e-bb9f-e450b2b7d8ab",
        "colab": {
          "base_uri": "https://localhost:8080/",
          "height": 164
        }
      },
      "source": [
        "RFC_2 = RandomForestClassifier(n_estimators = 50,\n",
        "                            max_depth = 50, \n",
        "                            min_samples_split = 15,\n",
        "                            min_samples_leaf = 10)\n",
        "RFC_2.fit(data[data.columns[4:]],np.array(data.iloc[:,2:3]).flatten())"
      ],
      "execution_count": 27,
      "outputs": [
        {
          "output_type": "execute_result",
          "data": {
            "text/plain": [
              "RandomForestClassifier(bootstrap=True, ccp_alpha=0.0, class_weight=None,\n",
              "                       criterion='gini', max_depth=50, max_features='auto',\n",
              "                       max_leaf_nodes=None, max_samples=None,\n",
              "                       min_impurity_decrease=0.0, min_impurity_split=None,\n",
              "                       min_samples_leaf=10, min_samples_split=15,\n",
              "                       min_weight_fraction_leaf=0.0, n_estimators=50,\n",
              "                       n_jobs=None, oob_score=False, random_state=None,\n",
              "                       verbose=0, warm_start=False)"
            ]
          },
          "metadata": {
            "tags": []
          },
          "execution_count": 27
        }
      ]
    },
    {
      "cell_type": "markdown",
      "metadata": {
        "id": "MkqYUJIFiobW",
        "colab_type": "text"
      },
      "source": [
        "*Define Function for Age Clusters.*"
      ]
    },
    {
      "cell_type": "code",
      "metadata": {
        "id": "Ux72VKLR-ks4",
        "colab_type": "code",
        "colab": {}
      },
      "source": [
        "def to_age_cat(input_variable):\n",
        "  if input_variable==\"A\":\n",
        "    return(\"14-24\")\n",
        "  elif input_variable==\"B\":\n",
        "    return(\"25-34\")\n",
        "  elif input_variable==\"C\":\n",
        "    return(\"35-44\")\n",
        "  elif input_variable==\"D\":\n",
        "    return(\"45-54\")\n",
        "  elif input_variable==\"E\":\n",
        "    return(\"55-64\")    \n",
        "  else:\n",
        "    return(\"65-99\")"
      ],
      "execution_count": 0,
      "outputs": []
    },
    {
      "cell_type": "markdown",
      "metadata": {
        "id": "0iiMaU51isfw",
        "colab_type": "text"
      },
      "source": [
        "*Set Lists with Locations of Input- and Output-Files to work through in the Loop.*"
      ]
    },
    {
      "cell_type": "code",
      "metadata": {
        "id": "dv9e5zJPEuCe",
        "colab_type": "code",
        "colab": {}
      },
      "source": [
        "input_files = ['/content/drive/My Drive/ML Python_Group Project/apply_500k.csv',\n",
        "               '/content/drive/My Drive/ML Python_Group Project/apply_1-0M.csv',\n",
        "               '/content/drive/My Drive/ML Python_Group Project/apply_1-5M.csv',\n",
        "               '/content/drive/My Drive/ML Python_Group Project/apply_2-0M.csv',\n",
        "               '/content/drive/My Drive/ML Python_Group Project/apply_2-5M.csv',\n",
        "               '/content/drive/My Drive/ML Python_Group Project/apply_3-0M.csv']\n",
        "output_files = ['/content/drive/My Drive/ML Python_Group Project/scored_500k.csv',\n",
        "               '/content/drive/My Drive/ML Python_Group Project/scored_1-0M.csv',\n",
        "               '/content/drive/My Drive/ML Python_Group Project/scored_1-5M.csv',\n",
        "               '/content/drive/My Drive/ML Python_Group Project/scored_2-0M.csv',\n",
        "               '/content/drive/My Drive/ML Python_Group Project/scored_2-5M.csv',\n",
        "               '/content/drive/My Drive/ML Python_Group Project/scored_3-0M.csv']"
      ],
      "execution_count": 0,
      "outputs": []
    },
    {
      "cell_type": "markdown",
      "metadata": {
        "id": "hqSoiilCizql",
        "colab_type": "text"
      },
      "source": [
        "*Application-Loop, where for every combination of input and output (each with 500k observations) the predictions are made, combined and saved.*"
      ]
    },
    {
      "cell_type": "code",
      "metadata": {
        "id": "aHLUyj9JQpAc",
        "colab_type": "code",
        "outputId": "74319ed0-40df-475e-9462-d5a86227d657",
        "colab": {
          "base_uri": "https://localhost:8080/",
          "height": 127
        }
      },
      "source": [
        "counter=0\n",
        "for inputs,outputs in zip(input_files,output_files):\n",
        "  \n",
        "  apply = pd.read_csv(inputs,sep=\";\")\n",
        "  apply.drop(\"Unnamed: 0.1\",axis=\"columns\",inplace=True)\n",
        "  apply.rename({\"Unnamed: 0\":\"ID\"}, axis='columns',inplace=True)\n",
        "\n",
        "  pred_sex = rf.predict_proba(apply[apply.columns[1:]])\n",
        "  pred_age_reg = RFR.predict(apply[apply.columns[1:]])\n",
        "  pred_age_reg_bins = pd.cut(pred_age_reg, bins=[0, 24, 34, 44, 54, 64, 99])\n",
        "  pred_age_cat_bins = RFC_2.predict(apply[apply.columns[1:]])\n",
        "\n",
        "  prediction_result = pd.DataFrame(pred_age_cat_bins,columns=[\"Predicted_Age_Clusters_Cat\"],index=apply[\"ID\"])\n",
        "  prediction_result[\"Predicted_Age_Clusters_Reg\"]=pred_age_reg_bins\n",
        "  prediction_result[\"Predicted_Sex\"]=pred_sex[:,1]\n",
        "\n",
        "  prediction_result[\"Predicted_Age_Clusters_Cat\"] = prediction_result.Predicted_Age_Clusters_Cat.apply(lambda x: to_age_cat(x))\n",
        "\n",
        "  prediction_result.to_csv(outputs,sep=\";\")\n",
        "  \n",
        "  #del(apply,prediction_result,pred_sex,pred_age_reg,pred_age_reg_bins,pred_age_cat_bins)\n",
        "\n",
        "  counter=counter+1\n",
        "  print(counter,\"/6 done\")"
      ],
      "execution_count": 35,
      "outputs": [
        {
          "output_type": "stream",
          "text": [
            "1 /6 done\n",
            "2 /6 done\n",
            "3 /6 done\n",
            "4 /6 done\n",
            "5 /6 done\n",
            "6 /6 done\n"
          ],
          "name": "stdout"
        }
      ]
    },
    {
      "cell_type": "markdown",
      "metadata": {
        "id": "ue_0IfPKjB3g",
        "colab_type": "text"
      },
      "source": [
        "*Load the saved files from the application loop and concatenate them.*"
      ]
    },
    {
      "cell_type": "code",
      "metadata": {
        "id": "TYG8M4JjX7p9",
        "colab_type": "code",
        "colab": {}
      },
      "source": [
        "output_1 = pd.read_csv('/content/drive/My Drive/ML Python_Group Project/scored_500k.csv',sep=\";\")\n",
        "output_2 = pd.read_csv('/content/drive/My Drive/ML Python_Group Project/scored_1-0M.csv',sep=\";\")\n",
        "output_3 = pd.read_csv('/content/drive/My Drive/ML Python_Group Project/scored_1-5M.csv',sep=\";\")\n",
        "output_4 = pd.read_csv('/content/drive/My Drive/ML Python_Group Project/scored_2-0M.csv',sep=\";\")\n",
        "output_5 = pd.read_csv('/content/drive/My Drive/ML Python_Group Project/scored_2-5M.csv',sep=\";\")\n",
        "output_6 = pd.read_csv('/content/drive/My Drive/ML Python_Group Project/scored_3-0M.csv',sep=\";\")\n",
        "\n",
        "output_list=[output_1,output_2,output_3,output_4,output_5,output_6]"
      ],
      "execution_count": 0,
      "outputs": []
    },
    {
      "cell_type": "code",
      "metadata": {
        "id": "Ja59fSn4YWnU",
        "colab_type": "code",
        "colab": {}
      },
      "source": [
        "result_table = pd.concat(output_list)"
      ],
      "execution_count": 0,
      "outputs": []
    },
    {
      "cell_type": "markdown",
      "metadata": {
        "id": "IXBYmz1bhWbE",
        "colab_type": "text"
      },
      "source": [
        "*Reset threshold slightly higher due to model's oversensitivity to \"M\", thus reaching a distribution of 60/40 that resembles the underlying distribution in the population (55/45) much closer.*"
      ]
    },
    {
      "cell_type": "code",
      "metadata": {
        "id": "yY-dGf0FfaD7",
        "colab_type": "code",
        "colab": {}
      },
      "source": [
        "k = 0.5434\n",
        "pred_sex = []\n",
        "for i in result_table.Predicted_Sex:\n",
        "  if i > k:\n",
        "    pred_sex.append(\"M\")\n",
        "  else:\n",
        "    pred_sex.append(\"F\")\n",
        "result_table[\"Predicted_Sex\"] = pred_sex"
      ],
      "execution_count": 0,
      "outputs": []
    },
    {
      "cell_type": "markdown",
      "metadata": {
        "id": "_YginHrrh6Uo",
        "colab_type": "text"
      },
      "source": [
        "*Drop the Age Clusters from the Classification as the model-output has small disadvantages in comparison to the Regression-output.*"
      ]
    },
    {
      "cell_type": "code",
      "metadata": {
        "id": "SVeOeKDOhqiT",
        "colab_type": "code",
        "colab": {}
      },
      "source": [
        "result_table.drop(\"Predicted_Age_Clusters_Cat\",axis=1,inplace=True)"
      ],
      "execution_count": 0,
      "outputs": []
    },
    {
      "cell_type": "code",
      "metadata": {
        "id": "b9NhsDHnh2sJ",
        "colab_type": "code",
        "colab": {
          "base_uri": "https://localhost:8080/",
          "height": 363
        },
        "outputId": "b80202c9-f6e7-446f-c138-3f0e21eb3029"
      },
      "source": [
        "result_table.tail(10)"
      ],
      "execution_count": 103,
      "outputs": [
        {
          "output_type": "execute_result",
          "data": {
            "text/html": [
              "<div>\n",
              "<style scoped>\n",
              "    .dataframe tbody tr th:only-of-type {\n",
              "        vertical-align: middle;\n",
              "    }\n",
              "\n",
              "    .dataframe tbody tr th {\n",
              "        vertical-align: top;\n",
              "    }\n",
              "\n",
              "    .dataframe thead th {\n",
              "        text-align: right;\n",
              "    }\n",
              "</style>\n",
              "<table border=\"1\" class=\"dataframe\">\n",
              "  <thead>\n",
              "    <tr style=\"text-align: right;\">\n",
              "      <th></th>\n",
              "      <th>ID</th>\n",
              "      <th>Predicted_Age_Clusters_Reg</th>\n",
              "      <th>Predicted_Sex</th>\n",
              "    </tr>\n",
              "  </thead>\n",
              "  <tbody>\n",
              "    <tr>\n",
              "      <th>248733</th>\n",
              "      <td>3111772</td>\n",
              "      <td>(34, 44]</td>\n",
              "      <td>F</td>\n",
              "    </tr>\n",
              "    <tr>\n",
              "      <th>248734</th>\n",
              "      <td>3111773</td>\n",
              "      <td>(34, 44]</td>\n",
              "      <td>M</td>\n",
              "    </tr>\n",
              "    <tr>\n",
              "      <th>248735</th>\n",
              "      <td>3111774</td>\n",
              "      <td>(34, 44]</td>\n",
              "      <td>M</td>\n",
              "    </tr>\n",
              "    <tr>\n",
              "      <th>248736</th>\n",
              "      <td>3111775</td>\n",
              "      <td>(44, 54]</td>\n",
              "      <td>M</td>\n",
              "    </tr>\n",
              "    <tr>\n",
              "      <th>248737</th>\n",
              "      <td>3111776</td>\n",
              "      <td>(34, 44]</td>\n",
              "      <td>F</td>\n",
              "    </tr>\n",
              "    <tr>\n",
              "      <th>248738</th>\n",
              "      <td>3111777</td>\n",
              "      <td>(34, 44]</td>\n",
              "      <td>M</td>\n",
              "    </tr>\n",
              "    <tr>\n",
              "      <th>248739</th>\n",
              "      <td>3111778</td>\n",
              "      <td>(44, 54]</td>\n",
              "      <td>F</td>\n",
              "    </tr>\n",
              "    <tr>\n",
              "      <th>248740</th>\n",
              "      <td>3111779</td>\n",
              "      <td>(34, 44]</td>\n",
              "      <td>F</td>\n",
              "    </tr>\n",
              "    <tr>\n",
              "      <th>248741</th>\n",
              "      <td>3111780</td>\n",
              "      <td>(44, 54]</td>\n",
              "      <td>F</td>\n",
              "    </tr>\n",
              "    <tr>\n",
              "      <th>248742</th>\n",
              "      <td>3111781</td>\n",
              "      <td>(44, 54]</td>\n",
              "      <td>M</td>\n",
              "    </tr>\n",
              "  </tbody>\n",
              "</table>\n",
              "</div>"
            ],
            "text/plain": [
              "             ID Predicted_Age_Clusters_Reg Predicted_Sex\n",
              "248733  3111772                   (34, 44]             F\n",
              "248734  3111773                   (34, 44]             M\n",
              "248735  3111774                   (34, 44]             M\n",
              "248736  3111775                   (44, 54]             M\n",
              "248737  3111776                   (34, 44]             F\n",
              "248738  3111777                   (34, 44]             M\n",
              "248739  3111778                   (44, 54]             F\n",
              "248740  3111779                   (34, 44]             F\n",
              "248741  3111780                   (44, 54]             F\n",
              "248742  3111781                   (44, 54]             M"
            ]
          },
          "metadata": {
            "tags": []
          },
          "execution_count": 103
        }
      ]
    },
    {
      "cell_type": "markdown",
      "metadata": {
        "id": "0tKYBQwTiPpR",
        "colab_type": "text"
      },
      "source": [
        "*Save Result Table to csv for Hand-In.*"
      ]
    },
    {
      "cell_type": "code",
      "metadata": {
        "id": "0nL66gKkhwPP",
        "colab_type": "code",
        "colab": {}
      },
      "source": [
        "result_table.to_csv('/content/drive/My Drive/ML Python_Group Project/pred_results_v2.csv',sep=\";\")"
      ],
      "execution_count": 0,
      "outputs": []
    }
  ]
}