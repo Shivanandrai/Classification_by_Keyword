{
  "nbformat": 4,
  "nbformat_minor": 0,
  "metadata": {
    "colab": {
      "name": "MLwP Group Projects_Keywords_Application Loop.ipynb",
      "provenance": [],
      "machine_shape": "hm",
      "authorship_tag": "ABX9TyPB1Bkjv31REdVYJm3R98Ay",
      "include_colab_link": true
    },
    "kernelspec": {
      "name": "python3",
      "display_name": "Python 3"
    }
  },
  "cells": [
    {
      "cell_type": "markdown",
      "metadata": {
        "id": "view-in-github",
        "colab_type": "text"
      },
      "source": [
        "<a href=\"https://colab.research.google.com/github/philsML/Classification_by_Keyword/blob/master/MLwP_Group_Projects_Keywords_Application_Loop.ipynb\" target=\"_parent\"><img src=\"https://colab.research.google.com/assets/colab-badge.svg\" alt=\"Open In Colab\"/></a>"
      ]
    },
    {
      "cell_type": "code",
      "metadata": {
        "id": "Ab-jEdxsNCgJ",
        "colab_type": "code",
        "colab": {}
      },
      "source": [
        "import numpy as np\n",
        "import pandas as pd\n",
        "pd.set_option('display.max_columns', 50)\n",
        "import matplotlib.pyplot as plt\n",
        "from google.colab import drive\n",
        "import random\n",
        "from pprint import pprint\n",
        "import sklearn\n",
        "from sklearn import metrics\n",
        "from sklearn.model_selection import train_test_split, cross_validate, StratifiedKFold, RandomizedSearchCV, GridSearchCV, cross_val_score, ShuffleSplit, RepeatedStratifiedKFold\n",
        "from sklearn.metrics import accuracy_score, confusion_matrix, classification_report\n",
        "from sklearn.utils import resample"
      ],
      "execution_count": 0,
      "outputs": []
    },
    {
      "cell_type": "code",
      "metadata": {
        "id": "zwUTyUwAJnpV",
        "colab_type": "code",
        "colab": {}
      },
      "source": [
        "#Algorithms\n",
        "from sklearn import linear_model\n",
        "from sklearn.linear_model import LogisticRegression, LinearRegression, BayesianRidge, SGDClassifier\n",
        "from sklearn.ensemble import RandomForestClassifier, RandomForestRegressor, GradientBoostingClassifier, GradientBoostingRegressor\n",
        "from sklearn.svm import SVC, LinearSVC\n",
        "from sklearn.tree import DecisionTreeClassifier\n",
        "from sklearn.discriminant_analysis import LinearDiscriminantAnalysis\n",
        "from sklearn.neighbors import KNeighborsClassifier\n",
        "from sklearn.naive_bayes import GaussianNB,BernoulliNB"
      ],
      "execution_count": 0,
      "outputs": []
    },
    {
      "cell_type": "code",
      "metadata": {
        "id": "7eY_wrycNGZB",
        "colab_type": "code",
        "colab": {}
      },
      "source": [
        "random.seed(123)"
      ],
      "execution_count": 0,
      "outputs": []
    },
    {
      "cell_type": "code",
      "metadata": {
        "id": "RbwLY1e6NHrC",
        "colab_type": "code",
        "outputId": "eae05618-5b8b-4972-9b11-479b0699e872",
        "colab": {
          "base_uri": "https://localhost:8080/",
          "height": 128
        }
      },
      "source": [
        "drive.mount('/content/drive')"
      ],
      "execution_count": 4,
      "outputs": [
        {
          "output_type": "stream",
          "text": [
            "Go to this URL in a browser: https://accounts.google.com/o/oauth2/auth?client_id=947318989803-6bn6qk8qdgf4n4g3pfee6491hc0brc4i.apps.googleusercontent.com&redirect_uri=urn%3aietf%3awg%3aoauth%3a2.0%3aoob&response_type=code&scope=email%20https%3a%2f%2fwww.googleapis.com%2fauth%2fdocs.test%20https%3a%2f%2fwww.googleapis.com%2fauth%2fdrive%20https%3a%2f%2fwww.googleapis.com%2fauth%2fdrive.photos.readonly%20https%3a%2f%2fwww.googleapis.com%2fauth%2fpeopleapi.readonly\n",
            "\n",
            "Enter your authorization code:\n",
            "··········\n",
            "Mounted at /content/drive\n"
          ],
          "name": "stdout"
        }
      ]
    },
    {
      "cell_type": "code",
      "metadata": {
        "id": "AWV42NTPQkb9",
        "colab_type": "code",
        "colab": {}
      },
      "source": [
        "#switched to v11 to include Jakob's changes - please re-run the preprocessing code, if colab can't find the file\n",
        "data=pd.read_csv('/content/drive/My Drive/ML Python_Group Project/Table for Analysis_v11.csv',sep=\";\")\n",
        "data.rename({\"Unnamed: 0\":\"ID\"}, axis='columns',inplace=True)\n",
        "cols = data.columns.to_list()"
      ],
      "execution_count": 0,
      "outputs": []
    },
    {
      "cell_type": "code",
      "metadata": {
        "id": "WSS2r6AyulbV",
        "colab_type": "code",
        "outputId": "7d641a51-36aa-49c5-a349-0701f101ba3d",
        "colab": {
          "base_uri": "https://localhost:8080/",
          "height": 163
        }
      },
      "source": [
        "rf = RandomForestClassifier(n_estimators=100,\n",
        "                            min_samples_split=250,\n",
        "                            min_samples_leaf=5,\n",
        "                            max_features=\"auto\",\n",
        "                            max_depth=40,\n",
        "                            bootstrap=True)\n",
        "rf.fit(data[data.columns[4:]],np.array(data.iloc[:,3:4]).flatten())"
      ],
      "execution_count": 6,
      "outputs": [
        {
          "output_type": "execute_result",
          "data": {
            "text/plain": [
              "RandomForestClassifier(bootstrap=True, ccp_alpha=0.0, class_weight=None,\n",
              "                       criterion='gini', max_depth=40, max_features='auto',\n",
              "                       max_leaf_nodes=None, max_samples=None,\n",
              "                       min_impurity_decrease=0.0, min_impurity_split=None,\n",
              "                       min_samples_leaf=5, min_samples_split=250,\n",
              "                       min_weight_fraction_leaf=0.0, n_estimators=100,\n",
              "                       n_jobs=None, oob_score=False, random_state=None,\n",
              "                       verbose=0, warm_start=False)"
            ]
          },
          "metadata": {
            "tags": []
          },
          "execution_count": 6
        }
      ]
    },
    {
      "cell_type": "code",
      "metadata": {
        "id": "6Y7Gc59kvDPl",
        "colab_type": "code",
        "outputId": "ed016dd0-97bd-4b9e-8564-6a760967b7b8",
        "colab": {
          "base_uri": "https://localhost:8080/",
          "height": 145
        }
      },
      "source": [
        "RFR = RandomForestRegressor(n_estimators = 200,\n",
        "                            max_depth = 50, \n",
        "                            min_samples_split = 15,\n",
        "                            min_samples_leaf = 10)\n",
        "RFR.fit(data[data.columns[4:]],np.array(data.iloc[:,1:2]).flatten())"
      ],
      "execution_count": 7,
      "outputs": [
        {
          "output_type": "execute_result",
          "data": {
            "text/plain": [
              "RandomForestRegressor(bootstrap=True, ccp_alpha=0.0, criterion='mse',\n",
              "                      max_depth=50, max_features='auto', max_leaf_nodes=None,\n",
              "                      max_samples=None, min_impurity_decrease=0.0,\n",
              "                      min_impurity_split=None, min_samples_leaf=10,\n",
              "                      min_samples_split=15, min_weight_fraction_leaf=0.0,\n",
              "                      n_estimators=200, n_jobs=None, oob_score=False,\n",
              "                      random_state=None, verbose=0, warm_start=False)"
            ]
          },
          "metadata": {
            "tags": []
          },
          "execution_count": 7
        }
      ]
    },
    {
      "cell_type": "code",
      "metadata": {
        "id": "gxkc7HgZRk3o",
        "colab_type": "code",
        "outputId": "57e56e4d-7047-4227-b25b-e6c6fd820f40",
        "colab": {
          "base_uri": "https://localhost:8080/",
          "height": 163
        }
      },
      "source": [
        "RFC_2 = RandomForestClassifier(n_estimators = 50,\n",
        "                            max_depth = 50, \n",
        "                            min_samples_split = 15,\n",
        "                            min_samples_leaf = 10)\n",
        "RFC_2.fit(data[data.columns[4:]],np.array(data.iloc[:,2:3]).flatten())"
      ],
      "execution_count": 8,
      "outputs": [
        {
          "output_type": "execute_result",
          "data": {
            "text/plain": [
              "RandomForestClassifier(bootstrap=True, ccp_alpha=0.0, class_weight=None,\n",
              "                       criterion='gini', max_depth=50, max_features='auto',\n",
              "                       max_leaf_nodes=None, max_samples=None,\n",
              "                       min_impurity_decrease=0.0, min_impurity_split=None,\n",
              "                       min_samples_leaf=10, min_samples_split=15,\n",
              "                       min_weight_fraction_leaf=0.0, n_estimators=50,\n",
              "                       n_jobs=None, oob_score=False, random_state=None,\n",
              "                       verbose=0, warm_start=False)"
            ]
          },
          "metadata": {
            "tags": []
          },
          "execution_count": 8
        }
      ]
    },
    {
      "cell_type": "code",
      "metadata": {
        "id": "Ux72VKLR-ks4",
        "colab_type": "code",
        "colab": {}
      },
      "source": [
        "def to_age_cat(input_variable):\n",
        "  if input_variable==\"A\":\n",
        "    return(\"14-24\")\n",
        "  elif input_variable==\"B\":\n",
        "    return(\"25-34\")\n",
        "  elif input_variable==\"C\":\n",
        "    return(\"35-44\")\n",
        "  elif input_variable==\"D\":\n",
        "    return(\"45-54\")\n",
        "  elif input_variable==\"E\":\n",
        "    return(\"55-64\")    \n",
        "  else:\n",
        "    return(\"65-99\")"
      ],
      "execution_count": 0,
      "outputs": []
    },
    {
      "cell_type": "code",
      "metadata": {
        "id": "dv9e5zJPEuCe",
        "colab_type": "code",
        "colab": {}
      },
      "source": [
        "input_files = ['/content/drive/My Drive/ML Python_Group Project/apply_500k.csv',\n",
        "               '/content/drive/My Drive/ML Python_Group Project/apply_1-0M.csv',\n",
        "               '/content/drive/My Drive/ML Python_Group Project/apply_1-5M.csv',\n",
        "               '/content/drive/My Drive/ML Python_Group Project/apply_2-0M.csv',\n",
        "               '/content/drive/My Drive/ML Python_Group Project/apply_2-5M.csv',\n",
        "               '/content/drive/My Drive/ML Python_Group Project/apply_3-0M.csv']\n",
        "output_files = ['/content/drive/My Drive/ML Python_Group Project/scored_500k.csv',\n",
        "               '/content/drive/My Drive/ML Python_Group Project/scored_1-0M.csv',\n",
        "               '/content/drive/My Drive/ML Python_Group Project/scored_1-5M.csv',\n",
        "               '/content/drive/My Drive/ML Python_Group Project/scored_2-0M.csv',\n",
        "               '/content/drive/My Drive/ML Python_Group Project/scored_2-5M.csv',\n",
        "               '/content/drive/My Drive/ML Python_Group Project/scored_3-0M.csv']"
      ],
      "execution_count": 0,
      "outputs": []
    },
    {
      "cell_type": "code",
      "metadata": {
        "id": "aHLUyj9JQpAc",
        "colab_type": "code",
        "colab": {
          "base_uri": "https://localhost:8080/",
          "height": 127
        },
        "outputId": "655027cc-c36e-4c56-b1fb-ec106f28779d"
      },
      "source": [
        "counter=0\n",
        "for inputs,outputs in zip(input_files,output_files):\n",
        "  \n",
        "  apply = pd.read_csv(inputs,sep=\";\")\n",
        "  apply.drop(\"Unnamed: 0.1\",axis=\"columns\",inplace=True)\n",
        "  apply.rename({\"Unnamed: 0\":\"ID\"}, axis='columns',inplace=True)\n",
        "\n",
        "  pred_sex = rf.predict(apply[apply.columns[1:]])\n",
        "  pred_age_reg = RFR.predict(apply[apply.columns[1:]])\n",
        "  pred_age_reg_bins = pd.cut(pred_age_reg, bins=[0, 24, 34, 44, 54, 64, 99])\n",
        "  pred_age_cat_bins = RFC_2.predict(apply[apply.columns[1:]])\n",
        "\n",
        "  prediction_result = pd.DataFrame(pred_age_cat_bins,columns=[\"Predicted_Age_Clusters_Cat\"],index=apply[\"ID\"])\n",
        "  prediction_result[\"Predicted_Age_Clusters_Reg\"]=pred_age_reg_bins\n",
        "  prediction_result[\"Predicted_Sex\"]=pred_sex\n",
        "\n",
        "  prediction_result[\"Predicted_Age_Clusters_Cat\"] = prediction_result.Predicted_Age_Clusters_Cat.apply(lambda x: to_age_cat(x))\n",
        "\n",
        "  prediction_result.to_csv(outputs,sep=\";\")\n",
        "  \n",
        "  #del(apply,prediction_result,pred_sex,pred_age_reg,pred_age_reg_bins,pred_age_cat_bins)\n",
        "\n",
        "  counter=counter+1\n",
        "  print(counter,\"/6 done\")"
      ],
      "execution_count": 34,
      "outputs": [
        {
          "output_type": "stream",
          "text": [
            "1 /6 done\n",
            "2 /6 done\n",
            "3 /6 done\n",
            "4 /6 done\n",
            "5 /6 done\n",
            "6 /6 done\n"
          ],
          "name": "stdout"
        }
      ]
    },
    {
      "cell_type": "code",
      "metadata": {
        "id": "TYG8M4JjX7p9",
        "colab_type": "code",
        "colab": {}
      },
      "source": [
        "output_1 = pd.read_csv('/content/drive/My Drive/ML Python_Group Project/scored_500k.csv',sep=\";\")\n",
        "output_2 = pd.read_csv('/content/drive/My Drive/ML Python_Group Project/scored_1-0M.csv',sep=\";\")\n",
        "output_3 = pd.read_csv('/content/drive/My Drive/ML Python_Group Project/scored_1-5M.csv',sep=\";\")\n",
        "output_4 = pd.read_csv('/content/drive/My Drive/ML Python_Group Project/scored_2-0M.csv',sep=\";\")\n",
        "output_5 = pd.read_csv('/content/drive/My Drive/ML Python_Group Project/scored_2-5M.csv',sep=\";\")\n",
        "output_6 = pd.read_csv('/content/drive/My Drive/ML Python_Group Project/scored_3-0M.csv',sep=\";\")\n",
        "\n",
        "output_list=[output_1,output_2,output_3,output_4,output_5,output_6]"
      ],
      "execution_count": 0,
      "outputs": []
    },
    {
      "cell_type": "code",
      "metadata": {
        "id": "Ja59fSn4YWnU",
        "colab_type": "code",
        "colab": {}
      },
      "source": [
        "result_table = pd.concat(output_list)"
      ],
      "execution_count": 0,
      "outputs": []
    },
    {
      "cell_type": "code",
      "metadata": {
        "id": "4cskJauTYygX",
        "colab_type": "code",
        "colab": {
          "base_uri": "https://localhost:8080/",
          "height": 145
        },
        "outputId": "462f3e26-56dd-4f33-c75b-f04838907310"
      },
      "source": [
        "result_table.Predicted_Age_Clusters_Cat.value_counts()"
      ],
      "execution_count": 32,
      "outputs": [
        {
          "output_type": "execute_result",
          "data": {
            "text/plain": [
              "35-44    2363401\n",
              "45-54     298631\n",
              "55-64      65020\n",
              "65-99      13161\n",
              "14-24       8238\n",
              "25-34        292\n",
              "Name: Predicted_Age_Clusters_Cat, dtype: int64"
            ]
          },
          "metadata": {
            "tags": []
          },
          "execution_count": 32
        }
      ]
    },
    {
      "cell_type": "code",
      "metadata": {
        "id": "0nL66gKkhwPP",
        "colab_type": "code",
        "colab": {}
      },
      "source": [
        "result_table.to_csv('/content/drive/My Drive/ML Python_Group Project/pred_results.csv',sep=\";\")"
      ],
      "execution_count": 0,
      "outputs": []
    },
    {
      "cell_type": "code",
      "metadata": {
        "id": "lWLZbpvak2P5",
        "colab_type": "code",
        "colab": {
          "base_uri": "https://localhost:8080/",
          "height": 72
        },
        "outputId": "d90616ce-a9c5-4c1b-843d-b5908589f5d3"
      },
      "source": [
        "result_table.Predicted_Sex.value_counts()"
      ],
      "execution_count": 38,
      "outputs": [
        {
          "output_type": "execute_result",
          "data": {
            "text/plain": [
              "M    2340035\n",
              "F     408708\n",
              "Name: Predicted_Sex, dtype: int64"
            ]
          },
          "metadata": {
            "tags": []
          },
          "execution_count": 38
        }
      ]
    }
  ]
}