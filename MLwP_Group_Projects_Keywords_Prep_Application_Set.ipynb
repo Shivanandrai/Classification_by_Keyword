{
  "nbformat": 4,
  "nbformat_minor": 0,
  "metadata": {
    "colab": {
      "name": "MLwP Group Projects_Keywords_Prep Application Set.ipynb",
      "provenance": [],
      "machine_shape": "hm",
      "authorship_tag": "ABX9TyPJyXC+Gv3xqNngUrLSimiU",
      "include_colab_link": true
    },
    "kernelspec": {
      "name": "python3",
      "display_name": "Python 3"
    }
  },
  "cells": [
    {
      "cell_type": "markdown",
      "metadata": {
        "id": "view-in-github",
        "colab_type": "text"
      },
      "source": [
        "<a href=\"https://colab.research.google.com/github/philsML/Classification_by_Keyword/blob/master/MLwP_Group_Projects_Keywords_Prep_Application_Set.ipynb\" target=\"_parent\"><img src=\"https://colab.research.google.com/assets/colab-badge.svg\" alt=\"Open In Colab\"/></a>"
      ]
    },
    {
      "cell_type": "code",
      "metadata": {
        "id": "V4F05pl9v9fz",
        "colab_type": "code",
        "outputId": "19ca7170-1580-4c1c-d7ac-6c4641352d3f",
        "colab": {
          "base_uri": "https://localhost:8080/",
          "height": 54
        }
      },
      "source": [
        "import numpy as np\n",
        "import pandas as pd\n",
        "pd.set_option('display.max_columns', 50)\n",
        "import matplotlib.pyplot as plt\n",
        "from google.colab import drive\n",
        "import random\n",
        "import nltk\n",
        "nltk.download('stopwords')\n",
        "from nltk.corpus import stopwords"
      ],
      "execution_count": 1,
      "outputs": [
        {
          "output_type": "stream",
          "text": [
            "[nltk_data] Downloading package stopwords to /root/nltk_data...\n",
            "[nltk_data]   Package stopwords is already up-to-date!\n"
          ],
          "name": "stdout"
        }
      ]
    },
    {
      "cell_type": "code",
      "metadata": {
        "id": "hyh5_ab50eRz",
        "colab_type": "code",
        "colab": {}
      },
      "source": [
        "random.seed(123)"
      ],
      "execution_count": 0,
      "outputs": []
    },
    {
      "cell_type": "code",
      "metadata": {
        "id": "OuMrnTqzxX1c",
        "colab_type": "code",
        "outputId": "806d5a5a-a9df-42d9-b390-9616faa85bc9",
        "colab": {
          "base_uri": "https://localhost:8080/",
          "height": 35
        }
      },
      "source": [
        "drive.mount('/content/drive')"
      ],
      "execution_count": 3,
      "outputs": [
        {
          "output_type": "stream",
          "text": [
            "Drive already mounted at /content/drive; to attempt to forcibly remount, call drive.mount(\"/content/drive\", force_remount=True).\n"
          ],
          "name": "stdout"
        }
      ]
    },
    {
      "cell_type": "code",
      "metadata": {
        "id": "Jlh5PirN-JJ-",
        "colab_type": "code",
        "colab": {}
      },
      "source": [
        "raw = pd.read_csv('/content/drive/My Drive/ML Python_Group Project/test.csv')"
      ],
      "execution_count": 0,
      "outputs": []
    },
    {
      "cell_type": "code",
      "metadata": {
        "id": "C8dIYxqi-KqA",
        "colab_type": "code",
        "colab": {}
      },
      "source": [
        "subset = raw.dropna(axis=\"index\",thresh=2)"
      ],
      "execution_count": 0,
      "outputs": []
    },
    {
      "cell_type": "code",
      "metadata": {
        "id": "s0D5DtKczG8p",
        "colab_type": "code",
        "colab": {}
      },
      "source": [
        "IDs=[]\n",
        "keywords=[]\n",
        "keywords_len=[]\n",
        "for i,j in zip(list(subset.ID),list(subset.keywords)):\n",
        "    IDs.append(i)\n",
        "    keywords.append(j)\n",
        "    keywords_len.append(len(j.split(\";\")))"
      ],
      "execution_count": 0,
      "outputs": []
    },
    {
      "cell_type": "code",
      "metadata": {
        "id": "Lsh58rBK00bg",
        "colab_type": "code",
        "colab": {}
      },
      "source": [
        "keywords_list=[]\n",
        "for i in keywords:\n",
        "    keywords_list.append(i.split(\";\"))"
      ],
      "execution_count": 0,
      "outputs": []
    },
    {
      "cell_type": "code",
      "metadata": {
        "id": "fgdbnacc1SgY",
        "colab_type": "code",
        "colab": {}
      },
      "source": [
        "keywords_names=[]\n",
        "keywords_count=[]\n",
        "for i in keywords_list:\n",
        "    for j in i:\n",
        "        keywords_names.append(j.split(\":\")[0])\n",
        "        try:\n",
        "            keywords_count.append(j.split(\":\")[1])\n",
        "        except:\n",
        "            keywords_count.append(0)"
      ],
      "execution_count": 0,
      "outputs": []
    },
    {
      "cell_type": "code",
      "metadata": {
        "id": "-S0kwFPQ2jOi",
        "colab_type": "code",
        "colab": {}
      },
      "source": [
        "counter=0\n",
        "index_list=[]\n",
        "for x,c in zip(IDs,keywords_len):\n",
        "        while counter < (c):    \n",
        "            index_list.append(x)\n",
        "            counter=counter+1\n",
        "        counter=0 "
      ],
      "execution_count": 0,
      "outputs": []
    },
    {
      "cell_type": "code",
      "metadata": {
        "id": "9chECDtv-lPs",
        "colab_type": "code",
        "colab": {}
      },
      "source": [
        "keywords_table=pd.DataFrame(index_list,columns=[\"ID\"])\n",
        "keywords_table[\"keywords\"]=keywords_names\n",
        "keywords_table[\"counts\"]=keywords_count"
      ],
      "execution_count": 0,
      "outputs": []
    },
    {
      "cell_type": "code",
      "metadata": {
        "id": "Ge_gZkDvAQ-v",
        "colab_type": "code",
        "colab": {}
      },
      "source": [
        "empty = pd.read_csv('/content/drive/My Drive/ML Python_Group Project/empty.csv',sep=\";\")\n",
        "train_keywords = empty.columns.to_list()"
      ],
      "execution_count": 0,
      "outputs": []
    },
    {
      "cell_type": "code",
      "metadata": {
        "id": "ZYeMhh_QE_WB",
        "colab_type": "code",
        "colab": {}
      },
      "source": [
        "sub_IDs = list(subset.ID.unique())[0:100000]"
      ],
      "execution_count": 0,
      "outputs": []
    },
    {
      "cell_type": "code",
      "metadata": {
        "id": "soxNFEiaE5gp",
        "colab_type": "code",
        "colab": {}
      },
      "source": [
        "apply = pd.DataFrame(0,columns=train_keywords,index=sub_IDs)"
      ],
      "execution_count": 0,
      "outputs": []
    },
    {
      "cell_type": "code",
      "metadata": {
        "id": "VPks7wDuA_vm",
        "colab_type": "code",
        "colab": {}
      },
      "source": [
        "keywords_table = keywords_table[(keywords_table.keywords.isin(train_keywords))&(keywords_table.ID.isin(sub_IDs))]"
      ],
      "execution_count": 0,
      "outputs": []
    },
    {
      "cell_type": "code",
      "metadata": {
        "id": "qYwOcYFNCuso",
        "colab_type": "code",
        "colab": {
          "base_uri": "https://localhost:8080/",
          "height": 366
        },
        "outputId": "abb26dcb-cbe9-4dfe-dfb4-20ae40ee8662"
      },
      "source": [
        "progress=0\n",
        "printer=0\n",
        "for index in range(0,len(keywords_table)):\n",
        "  ID=keywords_table.iloc[index,0]\n",
        "  keyword=keywords_table.iloc[index,1]\n",
        "  value=keywords_table.iloc[index,2]\n",
        "  if keyword in train_keywords:\n",
        "    if apply.loc[ID, keyword]==0:\n",
        "      apply.at[ID, keyword] = float(value)\n",
        "    else:\n",
        "      basis=apply.loc[ID, keyword]\n",
        "      apply.at[ID, keyword] = float(basis) + float(value)\n",
        "  progress=progress+1\n",
        "  printer=printer+1\n",
        "  if printer>(len(keywords_table)/20):\n",
        "    print(progress/len(keywords_table))\n",
        "    printer=0"
      ],
      "execution_count": 28,
      "outputs": [
        {
          "output_type": "stream",
          "text": [
            "0.05000046062147049\n",
            "0.10000092124294098\n",
            "0.15000138186441148\n",
            "0.20000184248588196\n",
            "0.25000230310735244\n",
            "0.30000276372882295\n",
            "0.3500032243502934\n",
            "0.4000036849717639\n",
            "0.4500041455932344\n",
            "0.5000046062147049\n",
            "0.5500050668361753\n",
            "0.6000055274576459\n",
            "0.6500059880791164\n",
            "0.7000064487005868\n",
            "0.7500069093220573\n",
            "0.8000073699435278\n",
            "0.8500078305649983\n",
            "0.9000082911864687\n",
            "0.9500087518079393\n"
          ],
          "name": "stdout"
        }
      ]
    },
    {
      "cell_type": "code",
      "metadata": {
        "id": "Q6ZW8IIzHh2x",
        "colab_type": "code",
        "colab": {}
      },
      "source": [
        "apply.to_csv('/content/drive/My Drive/ML Python_Group Project/apply_100k.csv',sep=\";\")"
      ],
      "execution_count": 0,
      "outputs": []
    }
  ]
}