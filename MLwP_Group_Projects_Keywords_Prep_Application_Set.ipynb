{
  "nbformat": 4,
  "nbformat_minor": 0,
  "metadata": {
    "colab": {
      "name": "MLwP Group Projects_Keywords_Prep Application Set.ipynb",
      "provenance": [],
      "collapsed_sections": [],
      "machine_shape": "hm",
      "authorship_tag": "ABX9TyO2JIFEwnOaxRG0ovrO2uQp",
      "include_colab_link": true
    },
    "kernelspec": {
      "name": "python3",
      "display_name": "Python 3"
    }
  },
  "cells": [
    {
      "cell_type": "markdown",
      "metadata": {
        "id": "view-in-github",
        "colab_type": "text"
      },
      "source": [
        "<a href=\"https://colab.research.google.com/github/philsML/Classification_by_Keyword/blob/master/MLwP_Group_Projects_Keywords_Prep_Application_Set.ipynb\" target=\"_parent\"><img src=\"https://colab.research.google.com/assets/colab-badge.svg\" alt=\"Open In Colab\"/></a>"
      ]
    },
    {
      "cell_type": "code",
      "metadata": {
        "id": "V4F05pl9v9fz",
        "colab_type": "code",
        "outputId": "7991a701-afbb-4a13-85d0-bbeba858b0d6",
        "colab": {
          "base_uri": "https://localhost:8080/",
          "height": 54
        }
      },
      "source": [
        "import numpy as np\n",
        "import pandas as pd\n",
        "pd.set_option('display.max_columns', 50)\n",
        "import matplotlib.pyplot as plt\n",
        "from google.colab import drive\n",
        "import random\n",
        "import nltk\n",
        "nltk.download('stopwords')\n",
        "from nltk.corpus import stopwords"
      ],
      "execution_count": 2,
      "outputs": [
        {
          "output_type": "stream",
          "text": [
            "[nltk_data] Error loading stopwords: HTTP Error 503: Service\n",
            "[nltk_data]     Unavailable\n"
          ],
          "name": "stdout"
        }
      ]
    },
    {
      "cell_type": "code",
      "metadata": {
        "id": "hyh5_ab50eRz",
        "colab_type": "code",
        "colab": {}
      },
      "source": [
        "random.seed(123)"
      ],
      "execution_count": 0,
      "outputs": []
    },
    {
      "cell_type": "code",
      "metadata": {
        "id": "OuMrnTqzxX1c",
        "colab_type": "code",
        "outputId": "d53e5683-c986-4e0f-f8e6-3944c5d3917d",
        "colab": {
          "base_uri": "https://localhost:8080/",
          "height": 129
        }
      },
      "source": [
        "drive.mount('/content/drive')"
      ],
      "execution_count": 4,
      "outputs": [
        {
          "output_type": "stream",
          "text": [
            "Go to this URL in a browser: https://accounts.google.com/o/oauth2/auth?client_id=947318989803-6bn6qk8qdgf4n4g3pfee6491hc0brc4i.apps.googleusercontent.com&redirect_uri=urn%3aietf%3awg%3aoauth%3a2.0%3aoob&response_type=code&scope=email%20https%3a%2f%2fwww.googleapis.com%2fauth%2fdocs.test%20https%3a%2f%2fwww.googleapis.com%2fauth%2fdrive%20https%3a%2f%2fwww.googleapis.com%2fauth%2fdrive.photos.readonly%20https%3a%2f%2fwww.googleapis.com%2fauth%2fpeopleapi.readonly\n",
            "\n",
            "Enter your authorization code:\n",
            "··········\n",
            "Mounted at /content/drive\n"
          ],
          "name": "stdout"
        }
      ]
    },
    {
      "cell_type": "code",
      "metadata": {
        "id": "Jlh5PirN-JJ-",
        "colab_type": "code",
        "colab": {}
      },
      "source": [
        "raw = pd.read_csv('/content/drive/My Drive/ML Python_Group Project/test.csv')"
      ],
      "execution_count": 0,
      "outputs": []
    },
    {
      "cell_type": "code",
      "metadata": {
        "id": "C8dIYxqi-KqA",
        "colab_type": "code",
        "colab": {}
      },
      "source": [
        "subset = raw.dropna(axis=\"index\",thresh=2)"
      ],
      "execution_count": 0,
      "outputs": []
    },
    {
      "cell_type": "code",
      "metadata": {
        "id": "s0D5DtKczG8p",
        "colab_type": "code",
        "colab": {}
      },
      "source": [
        "IDs=[]\n",
        "keywords=[]\n",
        "keywords_len=[]\n",
        "for i,j in zip(list(subset.ID),list(subset.keywords)):\n",
        "    IDs.append(i)\n",
        "    keywords.append(j)\n",
        "    keywords_len.append(len(j.split(\";\")))"
      ],
      "execution_count": 0,
      "outputs": []
    },
    {
      "cell_type": "code",
      "metadata": {
        "id": "Lsh58rBK00bg",
        "colab_type": "code",
        "colab": {}
      },
      "source": [
        "keywords_list=[]\n",
        "for i in keywords:\n",
        "    keywords_list.append(i.split(\";\"))"
      ],
      "execution_count": 0,
      "outputs": []
    },
    {
      "cell_type": "code",
      "metadata": {
        "id": "fgdbnacc1SgY",
        "colab_type": "code",
        "colab": {}
      },
      "source": [
        "keywords_names=[]\n",
        "keywords_count=[]\n",
        "for i in keywords_list:\n",
        "    for j in i:\n",
        "        keywords_names.append(j.split(\":\")[0])\n",
        "        try:\n",
        "            keywords_count.append(j.split(\":\")[1])\n",
        "        except:\n",
        "            keywords_count.append(0)"
      ],
      "execution_count": 0,
      "outputs": []
    },
    {
      "cell_type": "code",
      "metadata": {
        "id": "-S0kwFPQ2jOi",
        "colab_type": "code",
        "colab": {}
      },
      "source": [
        "counter=0\n",
        "index_list=[]\n",
        "for x,c in zip(IDs,keywords_len):\n",
        "        while counter < (c):    \n",
        "            index_list.append(x)\n",
        "            counter=counter+1\n",
        "        counter=0 "
      ],
      "execution_count": 0,
      "outputs": []
    },
    {
      "cell_type": "code",
      "metadata": {
        "id": "9chECDtv-lPs",
        "colab_type": "code",
        "colab": {}
      },
      "source": [
        "keywords_table=pd.DataFrame(index_list,columns=[\"ID\"])\n",
        "keywords_table[\"keywords\"]=keywords_names\n",
        "keywords_table[\"counts\"]=keywords_count"
      ],
      "execution_count": 0,
      "outputs": []
    },
    {
      "cell_type": "code",
      "metadata": {
        "id": "Ge_gZkDvAQ-v",
        "colab_type": "code",
        "colab": {}
      },
      "source": [
        "empty = pd.read_csv('/content/drive/My Drive/ML Python_Group Project/empty.csv',sep=\";\")\n",
        "train_keywords = empty.columns.to_list()"
      ],
      "execution_count": 0,
      "outputs": []
    },
    {
      "cell_type": "code",
      "metadata": {
        "id": "HI1KbfqWXHHx",
        "colab_type": "code",
        "colab": {
          "base_uri": "https://localhost:8080/",
          "height": 35
        },
        "outputId": "f7e1e9c5-905d-4d8f-d7f0-b338743c5342"
      },
      "source": [
        "len(list(subset.ID.unique()))"
      ],
      "execution_count": 34,
      "outputs": [
        {
          "output_type": "execute_result",
          "data": {
            "text/plain": [
              "2748743"
            ]
          },
          "metadata": {
            "tags": []
          },
          "execution_count": 34
        }
      ]
    },
    {
      "cell_type": "code",
      "metadata": {
        "id": "ZYeMhh_QE_WB",
        "colab_type": "code",
        "colab": {}
      },
      "source": [
        "sub_IDs = list(subset.ID.unique())[0:100000]"
      ],
      "execution_count": 0,
      "outputs": []
    },
    {
      "cell_type": "code",
      "metadata": {
        "id": "soxNFEiaE5gp",
        "colab_type": "code",
        "colab": {}
      },
      "source": [
        "apply = pd.DataFrame(0,columns=train_keywords,index=sub_IDs)"
      ],
      "execution_count": 0,
      "outputs": []
    },
    {
      "cell_type": "code",
      "metadata": {
        "id": "VPks7wDuA_vm",
        "colab_type": "code",
        "colab": {}
      },
      "source": [
        "keywords_table = keywords_table[(keywords_table.keywords.isin(train_keywords))&(keywords_table.ID.isin(sub_IDs))]"
      ],
      "execution_count": 0,
      "outputs": []
    },
    {
      "cell_type": "code",
      "metadata": {
        "id": "qYwOcYFNCuso",
        "colab_type": "code",
        "colab": {
          "base_uri": "https://localhost:8080/",
          "height": 366
        },
        "outputId": "45229d27-8d23-47a8-91fe-b8ba23d0de7c"
      },
      "source": [
        "progress=0\n",
        "printer=0\n",
        "for index in range(0,len(keywords_table)):\n",
        "  ID=keywords_table.iloc[index,0]\n",
        "  keyword=keywords_table.iloc[index,1]\n",
        "  value=keywords_table.iloc[index,2]\n",
        "  if keyword in train_keywords:\n",
        "    if apply.loc[ID, keyword]==0:\n",
        "      apply.at[ID, keyword] = float(value)\n",
        "    else:\n",
        "      basis=apply.loc[ID, keyword]\n",
        "      apply.at[ID, keyword] = float(basis) + float(value)\n",
        "  progress=progress+1\n",
        "  printer=printer+1\n",
        "  if printer>(len(keywords_table)/20):\n",
        "    print(progress/len(keywords_table))\n",
        "    printer=0"
      ],
      "execution_count": 38,
      "outputs": [
        {
          "output_type": "stream",
          "text": [
            "0.050000066969457906\n",
            "0.10000013393891581\n",
            "0.15000020090837374\n",
            "0.20000026787783162\n",
            "0.25000033484728956\n",
            "0.3000004018167475\n",
            "0.3500004687862054\n",
            "0.40000053575566324\n",
            "0.45000060272512116\n",
            "0.5000006696945791\n",
            "0.550000736664037\n",
            "0.600000803633495\n",
            "0.6500008706029529\n",
            "0.7000009375724108\n",
            "0.7500010045418687\n",
            "0.8000010715113265\n",
            "0.8500011384807844\n",
            "0.9000012054502423\n",
            "0.9500012724197002\n"
          ],
          "name": "stdout"
        }
      ]
    },
    {
      "cell_type": "code",
      "metadata": {
        "id": "Q6ZW8IIzHh2x",
        "colab_type": "code",
        "colab": {}
      },
      "source": [
        "apply.to_csv('/content/drive/My Drive/ML Python_Group Project/apply_1-5M.csv',sep=\";\")"
      ],
      "execution_count": 0,
      "outputs": []
    }
  ]
}